{
  "cells": [
    {
      "cell_type": "code",
      "execution_count": null,
      "metadata": {
        "colab": {
          "base_uri": "https://localhost:8080/"
        },
        "id": "IZauCUv12ipM",
        "outputId": "da9c31ab-4560-4978-db29-4d64e9e800da"
      },
      "outputs": [
        {
          "name": "stdout",
          "output_type": "stream",
          "text": [
            "✅ Data extracted to: /content/caaddd_extracted\n"
          ]
        }
      ],
      "source": [
        "import zipfile\n",
        "from pathlib import Path\n",
        "import re\n",
        "import numpy as np\n",
        "import gc\n",
        "from tqdm import tqdm\n",
        "zip_path = \"/content/processed_test_data.zip\"  # <-- Update with your ZIP path\n",
        "extract_dir = Path(\"/content/caaddd_extracted\")\n",
        "extract_dir.mkdir(exist_ok=True)\n",
        "\n",
        "# Extract ZIP\n",
        "with zipfile.ZipFile(zip_path, 'r') as zip_ref:\n",
        "    zip_ref.extractall(extract_dir)\n",
        "\n",
        "print(\"✅ Data extracted to:\", extract_dir)"
      ]
    },
    {
      "cell_type": "code",
      "execution_count": null,
      "metadata": {
        "colab": {
          "base_uri": "https://localhost:8080/"
        },
        "id": "NlEObsoX2916",
        "outputId": "c3cf025c-43da-4145-aaaa-d09c49701cc7"
      },
      "outputs": [
        {
          "name": "stdout",
          "output_type": "stream",
          "text": [
            "Number of nodes with displacement: 6\n",
            "First 5 nodal displacements:\n",
            " [[ 2.          0.63913083 -0.80421     0.18421787  0.          0.        ]\n",
            " [ 3.          0.12584937 -0.2901807   0.10837966  0.          0.        ]\n",
            " [ 4.          0.82453775  0.921265    0.31876263  0.          0.        ]\n",
            " [ 5.          0.18547948 -0.3763333   0.13411954  0.          0.        ]\n",
            " [ 7.          0.06857149  0.13421406  0.11500238  0.          0.        ]]\n"
          ]
        }
      ],
      "source": [
        "\n",
        "def parse_dat(dat_path):\n",
        "    \"\"\"Parse nodal displacements from .dat file.\"\"\"\n",
        "    displacements = []\n",
        "    inside_node_output = False\n",
        "\n",
        "    with open(dat_path) as f:\n",
        "        for line in f:\n",
        "            if \"N O D E   O U T P U T\" in line.upper():\n",
        "                inside_node_output = True\n",
        "                continue\n",
        "            if inside_node_output:\n",
        "                if \"MAXIMUM\" in line.upper() or \"MINIMUM\" in line.upper():\n",
        "                    break\n",
        "                if not line.strip():\n",
        "                    continue\n",
        "                if \"NODE\" in line.upper() and \"U1\" in line.upper():\n",
        "                    continue\n",
        "                if re.match(r\"^\\s*\\d+\", line):\n",
        "                    parts = line.split()\n",
        "                    node_id = int(parts[0])\n",
        "                    values = list(map(float, parts[2:]))  # skip FOOT- column\n",
        "                    displacements.append([node_id] + values)\n",
        "\n",
        "    displacements = np.array(displacements, dtype=np.float32)\n",
        "    return displacements\n",
        "# Example usage\n",
        "# Example usage\n",
        "dat_file = \"/content/caaddd_extracted/processed_test_data/Varient_1/test_1.dat\"\n",
        "displacements = parse_dat(dat_file)\n",
        "\n",
        "print(\"Number of nodes with displacement:\", len(displacements))\n",
        "print(\"First 5 nodal displacements:\\n\", displacements[:5])"
      ]
    },
    {
      "cell_type": "code",
      "execution_count": 3,
      "metadata": {
        "colab": {
          "base_uri": "https://localhost:8080/"
        },
        "id": "_npgVf0l4YGr",
        "outputId": "c1749989-16df-47db-825b-34b15b96e2d9"
      },
      "outputs": [
        {
          "name": "stdout",
          "output_type": "stream",
          "text": [
            "Number of nodes: 9\n",
            "Number of elements: 4\n",
            "Number of BCs: 1\n",
            "First 5 BCs: [['DOF_3', '1', '6']]\n"
          ]
        }
      ],
      "source": [
        "def parse_inp(inp_path):\n",
        "    \"\"\"Parse nodes, elements, and boundary conditions from .inp file.\"\"\"\n",
        "    nodes = {}\n",
        "    elements = []\n",
        "    bcs = []\n",
        "    with open(inp_path, 'r') as f:\n",
        "        lines = f.readlines()\n",
        "\n",
        "    mode = None\n",
        "    for line in lines:\n",
        "        line = line.strip()\n",
        "        if line.lower().startswith(\"*node\"):\n",
        "            mode = \"node\"\n",
        "            continue\n",
        "        elif line.lower().startswith(\"*element\"):\n",
        "            mode = \"element\"\n",
        "            continue\n",
        "        elif line.lower().startswith(\"*boundary\"):\n",
        "            mode = \"bc\"\n",
        "            continue\n",
        "        elif line.startswith(\"*\"):\n",
        "            mode = None\n",
        "            continue\n",
        "\n",
        "        if mode == \"node\":\n",
        "            parts = line.split(\",\")\n",
        "            if len(parts) >= 4:\n",
        "                nodes[int(parts[0])] = tuple(map(float, parts[1:4]))\n",
        "        elif mode == \"element\":\n",
        "            parts = line.split(\",\")\n",
        "            if len(parts) >= 2:\n",
        "                elements.append((int(parts[0]), tuple(map(int, parts[1:]))))\n",
        "        elif mode == \"bc\":\n",
        "            parts = [p.strip() for p in line.split(\",\")]\n",
        "            bcs.append(parts)  # keep as strings\n",
        "\n",
        "    return nodes, elements, bcs\n",
        "inp_file = \"/content/caaddd_extracted/processed_test_data/Varient_1/test_1.inp\"\n",
        "nodes, elements, bcs = parse_inp(inp_file)\n",
        "print(\"Number of nodes:\", len(nodes))\n",
        "print(\"Number of elements:\", len(elements))\n",
        "print(\"Number of BCs:\", len(bcs))\n",
        "print(\"First 5 BCs:\", bcs[:5])\n"
      ]
    },
    {
      "cell_type": "code",
      "execution_count": 4,
      "metadata": {
        "colab": {
          "base_uri": "https://localhost:8080/"
        },
        "id": "_HtVT_k75AS6",
        "outputId": "bac279e5-316e-42e8-da9c-41616c1fbcff"
      },
      "outputs": [
        {
          "name": "stdout",
          "output_type": "stream",
          "text": [
            "Processed 2117 variants.\n",
            "Example from first variant:\n",
            "Nodes: 9\n",
            "Elements: 4\n",
            "BCs: [['DOF_3', '1', '6']]\n",
            "Displacements:\n",
            " [[ 2.          0.63913083 -0.80421     0.18421787  0.          0.        ]\n",
            " [ 3.          0.12584937 -0.2901807   0.10837966  0.          0.        ]\n",
            " [ 4.          0.82453775  0.921265    0.31876263  0.          0.        ]\n",
            " [ 5.          0.18547948 -0.3763333   0.13411954  0.          0.        ]\n",
            " [ 7.          0.06857149  0.13421406  0.11500238  0.          0.        ]]\n"
          ]
        }
      ],
      "source": [
        "import os\n",
        "import numpy as np\n",
        "\n",
        "base_path = \"/content/caaddd_extracted/processed_test_data\"\n",
        "\n",
        "all_data = []\n",
        "\n",
        "variant_folders = [f for f in os.listdir(base_path) if f.startswith(\"Varient_\")]\n",
        "variant_folders.sort()\n",
        "\n",
        "for var_folder in variant_folders:\n",
        "    var_path = os.path.join(base_path, var_folder)\n",
        "    test_file_number = var_folder.split(\"_\")[1]  # x in Varient_x\n",
        "    inp_file = os.path.join(var_path, f\"test_{test_file_number}.inp\")\n",
        "    dat_file = os.path.join(var_path, f\"test_{test_file_number}.dat\")\n",
        "\n",
        "    # Parse files\n",
        "    nodes, elements, bcs = parse_inp(inp_file)\n",
        "    displacements = parse_dat(dat_file)\n",
        "\n",
        "    variant_data = {\n",
        "        \"variant\": var_folder,\n",
        "        \"nodes\": nodes,\n",
        "        \"elements\": elements,\n",
        "        \"bcs\": bcs,\n",
        "        \"displacements\": displacements\n",
        "    }\n",
        "\n",
        "    all_data.append(variant_data)\n",
        "\n",
        "\n",
        "print(f\"Processed {len(all_data)} variants.\")\n",
        "print(\"Example from first variant:\")\n",
        "print(\"Nodes:\", len(all_data[0][\"nodes\"]))\n",
        "print(\"Elements:\", len(all_data[0][\"elements\"]))\n",
        "print(\"BCs:\", all_data[0][\"bcs\"])\n",
        "print(\"Displacements:\\n\", all_data[0][\"displacements\"][:5])\n"
      ]
    },
    {
      "cell_type": "code",
      "execution_count": 24,
      "metadata": {
        "colab": {
          "base_uri": "https://localhost:8080/"
        },
        "id": "GONeBYch6Ig6",
        "outputId": "fd13c602-57d6-442b-8981-ed909bb72433"
      },
      "outputs": [
        {
          "name": "stdout",
          "output_type": "stream",
          "text": [
            "Converted 2117 variants to graph format.\n",
            "Example graph: Data(x=[9, 3], edge_index=[2, 48], y=[9, 3])\n"
          ]
        }
      ],
      "source": [
        "import torch\n",
        "from torch_geometric.data import Data\n",
        "\n",
        "graph_data_list = []\n",
        "\n",
        "for variant in all_data:\n",
        "    nodes = variant['nodes']\n",
        "    elements = variant['elements']\n",
        "    displacements = variant['displacements']\n",
        "\n",
        "    # Node features: x, y, z coordinates\n",
        "    node_ids = sorted(nodes.keys())\n",
        "    node_features = torch.tensor([nodes[n] for n in node_ids], dtype=torch.float32)\n",
        "\n",
        "    # Build edges from elements (connect each node in an element to every other node in the same element)\n",
        "    edge_index = []\n",
        "    for elem_id, elem_nodes in elements:\n",
        "        elem_nodes = [node_ids.index(n) for n in elem_nodes]  # map to 0-based index\n",
        "        for i in range(len(elem_nodes)):\n",
        "            for j in range(len(elem_nodes)):\n",
        "                if i != j:\n",
        "                    edge_index.append([elem_nodes[i], elem_nodes[j]])\n",
        "    edge_index = torch.tensor(edge_index, dtype=torch.long).t().contiguous()  # shape [2, num_edges]\n",
        "\n",
        "    # Target displacements (u_x, u_y, u_z)\n",
        "    target_nodes = {int(d[0]): d[1:4] for d in displacements}\n",
        "    y = torch.tensor([target_nodes.get(n, [0.0, 0.0, 0.0]) for n in node_ids], dtype=torch.float32)\n",
        "\n",
        "    # Create PyG Data object\n",
        "    graph = Data(x=node_features, edge_index=edge_index, y=y)\n",
        "    graph_data_list.append(graph)\n",
        "\n",
        "print(f\"Converted {len(graph_data_list)} variants to graph format.\")\n",
        "print(\"Example graph:\", graph_data_list[0])\n"
      ]
    },
    {
      "cell_type": "code",
      "execution_count": 25,
      "metadata": {
        "id": "IFSLOD-06cVh"
      },
      "outputs": [],
      "source": [
        "from torch_geometric.loader import DataLoader\n",
        "from sklearn.model_selection import train_test_split\n",
        "\n",
        "# Split dataset\n",
        "train_graphs, test_graphs = train_test_split(graph_data_list, test_size=0.2, random_state=42)\n",
        "\n",
        "# Create loaders\n",
        "train_loader = DataLoader(train_graphs, batch_size=16, shuffle=True)\n",
        "test_loader = DataLoader(test_graphs, batch_size=16)\n"
      ]
    },
    {
      "cell_type": "code",
      "execution_count": 26,
      "metadata": {
        "id": "Gj7mwClC6vqC"
      },
      "outputs": [],
      "source": [
        "import torch.nn as nn\n",
        "import torch.nn.functional as F\n",
        "from torch_geometric.nn import GCNConv\n",
        "\n",
        "class GCNModel(nn.Module):\n",
        "    def __init__(self, in_channels=3, hidden_channels=64, out_channels=3, num_layers=3):\n",
        "        super(GCNModel, self).__init__()\n",
        "        self.convs = nn.ModuleList()\n",
        "        self.convs.append(GCNConv(in_channels, hidden_channels))\n",
        "        for _ in range(num_layers - 2):\n",
        "            self.convs.append(GCNConv(hidden_channels, hidden_channels))\n",
        "        self.convs.append(GCNConv(hidden_channels, out_channels))\n",
        "\n",
        "    def forward(self, x, edge_index):\n",
        "        for conv in self.convs[:-1]:\n",
        "            x = conv(x, edge_index)\n",
        "            x = F.relu(x)\n",
        "        x = self.convs[-1](x, edge_index)  # no activation on last layer\n",
        "        return x\n"
      ]
    },
    {
      "cell_type": "code",
      "execution_count": 31,
      "metadata": {
        "colab": {
          "base_uri": "https://localhost:8080/"
        },
        "id": "x1l4eacV6yJK",
        "outputId": "3dff7fe2-2c03-4401-9466-546103469f8c"
      },
      "outputs": [
        {
          "name": "stdout",
          "output_type": "stream",
          "text": [
            "Epoch 001, Loss: 8.030610\n",
            "Epoch 002, Loss: 2.542574\n",
            "Epoch 003, Loss: 2.547100\n",
            "Epoch 004, Loss: 2.547658\n",
            "Epoch 005, Loss: 2.550890\n",
            "Epoch 006, Loss: 2.550662\n",
            "Epoch 007, Loss: 2.548789\n",
            "Epoch 008, Loss: 2.550352\n",
            "Epoch 009, Loss: 2.557359\n",
            "Epoch 010, Loss: 2.554187\n",
            "Epoch 011, Loss: 2.546168\n",
            "Epoch 012, Loss: 2.556243\n",
            "Epoch 013, Loss: 2.572079\n",
            "Epoch 014, Loss: 2.551176\n",
            "Epoch 015, Loss: 2.569458\n",
            "Epoch 016, Loss: 2.558362\n",
            "Epoch 017, Loss: 2.552132\n",
            "Epoch 018, Loss: 2.557423\n",
            "Epoch 019, Loss: 2.559428\n",
            "Epoch 020, Loss: 2.555340\n",
            "Epoch 021, Loss: 2.562071\n",
            "Epoch 022, Loss: 2.560260\n",
            "Epoch 023, Loss: 2.555637\n",
            "Epoch 024, Loss: 2.560877\n",
            "Epoch 025, Loss: 2.566703\n",
            "Epoch 026, Loss: 2.570681\n",
            "Epoch 027, Loss: 2.558802\n",
            "Epoch 028, Loss: 2.560418\n",
            "Epoch 029, Loss: 2.558269\n",
            "Epoch 030, Loss: 2.567766\n",
            "Epoch 031, Loss: 2.563500\n",
            "Epoch 032, Loss: 2.555203\n",
            "Epoch 033, Loss: 2.560730\n",
            "Epoch 034, Loss: 2.549628\n",
            "Epoch 035, Loss: 2.557787\n",
            "Epoch 036, Loss: 2.566765\n",
            "Epoch 037, Loss: 2.562226\n",
            "Epoch 038, Loss: 2.563085\n",
            "Epoch 039, Loss: 2.566352\n",
            "Epoch 040, Loss: 2.570435\n",
            "Epoch 041, Loss: 2.554844\n",
            "Epoch 042, Loss: 2.553258\n",
            "Epoch 043, Loss: 2.552437\n",
            "Epoch 044, Loss: 2.572397\n",
            "Epoch 045, Loss: 2.550884\n",
            "Epoch 046, Loss: 2.556619\n",
            "Epoch 047, Loss: 2.560755\n",
            "Epoch 048, Loss: 2.557860\n",
            "Epoch 049, Loss: 2.568908\n",
            "Epoch 050, Loss: 2.558786\n"
          ]
        }
      ],
      "source": [
        "device = torch.device('cuda' if torch.cuda.is_available() else 'cpu')\n",
        "model = GCNModel().to(device)\n",
        "optimizer = torch.optim.Adam(model.parameters(), lr=1e-3)\n",
        "criterion = nn.MSELoss()\n",
        "\n",
        "# Training\n",
        "num_epochs = 50\n",
        "for epoch in range(1, num_epochs + 1):\n",
        "    model.train()\n",
        "    total_loss = 0\n",
        "    for batch in train_loader:\n",
        "        batch = batch.to(device)\n",
        "        optimizer.zero_grad()\n",
        "        out = model(batch.x, batch.edge_index)\n",
        "        loss = criterion(out, batch.y)\n",
        "        loss.backward()\n",
        "        optimizer.step()\n",
        "        total_loss += loss.item() * batch.num_graphs\n",
        "    total_loss /= len(train_loader.dataset)\n",
        "    print(f\"Epoch {epoch:03d}, Loss: {total_loss:.6f}\")\n"
      ]
    },
    {
      "cell_type": "code",
      "execution_count": 32,
      "metadata": {
        "colab": {
          "base_uri": "https://localhost:8080/"
        },
        "id": "Nat9KWRN7Ati",
        "outputId": "2980634e-2bf9-40e1-c3f6-e52daeb9bf7a"
      },
      "outputs": [
        {
          "name": "stdout",
          "output_type": "stream",
          "text": [
            "Test MSE: 0.32221777427871273\n"
          ]
        }
      ],
      "source": [
        "model.eval()\n",
        "test_loss = 0\n",
        "with torch.no_grad():\n",
        "    for batch in test_loader:\n",
        "        batch = batch.to(device)\n",
        "        out = model(batch.x, batch.edge_index)\n",
        "        loss = criterion(out, batch.y)\n",
        "        test_loss += loss.item() * batch.num_graphs\n",
        "test_loss /= len(test_loader.dataset)\n",
        "print(\"Test MSE:\", test_loss)\n"
      ]
    },
    {
      "cell_type": "code",
      "execution_count": 33,
      "metadata": {
        "colab": {
          "base_uri": "https://localhost:8080/"
        },
        "id": "B9X4d-QR7FiB",
        "outputId": "9a847b50-ba24-4136-918c-89ce3e1550f0"
      },
      "outputs": [
        {
          "name": "stdout",
          "output_type": "stream",
          "text": [
            "Node 1: Predicted displacement = [ 0.00545533 -0.08398306  0.02273622]\n",
            "Node 2: Predicted displacement = [ 0.02972626 -0.23674116 -0.01082707]\n",
            "Node 3: Predicted displacement = [ 0.02265701 -0.2577084   0.01535495]\n",
            "Node 4: Predicted displacement = [ 0.04158632 -0.1606797  -0.00671197]\n",
            "Node 5: Predicted displacement = [-0.00409358 -0.15872067 -0.00469092]\n",
            "Node 6: Predicted displacement = [-0.01655163 -0.02664034  0.0040368 ]\n",
            "Node 7: Predicted displacement = [ 0.03917724 -0.16183293  0.01639831]\n",
            "Node 8: Predicted displacement = [ 0.02335797 -0.03120978  0.02321048]\n",
            "Node 9: Predicted displacement = [ 0.00711401 -0.160526   -0.02389462]\n"
          ]
        }
      ],
      "source": [
        "# Function to convert .inp file to PyG graph (like training)\n",
        "def inp_to_graph(inp_file):\n",
        "    nodes, elements, _ = parse_inp(inp_file)\n",
        "    node_ids = list(nodes.keys())\n",
        "    x = torch.tensor([nodes[n] for n in node_ids], dtype=torch.float32)\n",
        "\n",
        "    # Build edges\n",
        "    edge_index = []\n",
        "    for e_id, conn in elements:\n",
        "        for i in range(len(conn)):\n",
        "            for j in range(i+1, len(conn)):\n",
        "                edge_index.append([conn[i]-1, conn[j]-1])  # zero-based indexing\n",
        "                edge_index.append([conn[j]-1, conn[i]-1])\n",
        "    edge_index = torch.tensor(edge_index, dtype=torch.long).t().contiguous()\n",
        "\n",
        "    return x, edge_index, node_ids\n",
        "\n",
        "# Example prediction\n",
        "new_inp = \"/content/caaddd_extracted/processed_test_data/Varient_2/test_2.inp\"\n",
        "x, edge_index, node_ids = inp_to_graph(new_inp)\n",
        "x, edge_index = x.to(device), edge_index.to(device)\n",
        "\n",
        "model.eval()\n",
        "with torch.no_grad():\n",
        "    pred_disp = model(x, edge_index)\n",
        "\n",
        "# Convert to numpy array\n",
        "pred_disp = pred_disp.cpu().numpy()\n",
        "for nid, disp in zip(node_ids, pred_disp):\n",
        "    print(f\"Node {nid}: Predicted displacement = {disp}\")\n"
      ]
    },
    {
      "cell_type": "code",
      "execution_count": 34,
      "metadata": {
        "colab": {
          "base_uri": "https://localhost:8080/",
          "height": 415
        },
        "id": "nrS2XfLu7LPx",
        "outputId": "fe947a53-2f66-49e8-c310-2695baba54cc"
      },
      "outputs": [
        {
          "data": {
            "image/png": "[encoded data removed]",
            "text/plain": [
              "<Figure size 640x480 with 1 Axes>"
            ]
          },
          "metadata": {},
          "output_type": "display_data"
        }
      ],
      "source": [
        "import matplotlib.pyplot as plt\n",
        "from mpl_toolkits.mplot3d import Axes3D\n",
        "import numpy as np\n",
        "\n",
        "# Original node positions\n",
        "nodes, _, _ = parse_inp(new_inp)\n",
        "node_coords = np.array([nodes[n] for n in node_ids])\n",
        "pred_disp = np.array(pred_disp)\n",
        "\n",
        "# Plot original and displaced mesh\n",
        "fig = plt.figure()\n",
        "ax = fig.add_subplot(111, projection='3d')\n",
        "ax.scatter(node_coords[:,0], node_coords[:,1], node_coords[:,2], c='b', label='Original')\n",
        "ax.scatter(node_coords[:,0]+pred_disp[:,0],\n",
        "           node_coords[:,1]+pred_disp[:,1],\n",
        "           node_coords[:,2]+pred_disp[:,2], c='r', label='Predicted')\n",
        "\n",
        "for i in range(len(node_ids)):\n",
        "    ax.plot([node_coords[i,0], node_coords[i,0]+pred_disp[i,0]],\n",
        "            [node_coords[i,1], node_coords[i,1]+pred_disp[i,1]],\n",
        "            [node_coords[i,2], node_coords[i,2]+pred_disp[i,2]], 'k--', alpha=0.5)\n",
        "\n",
        "ax.set_xlabel('X')\n",
        "ax.set_ylabel('Y')\n",
        "ax.set_zlabel('Z')\n",
        "ax.legend()\n",
        "plt.show()\n",
        "\n"
      ]
    },
    {
      "cell_type": "code",
      "execution_count": 35,
      "metadata": {
        "colab": {
          "base_uri": "https://localhost:8080/"
        },
        "id": "8KSdHWXZ7xQC",
        "outputId": "9329f5cd-b6dd-4cb3-885a-ad21c849e828"
      },
      "outputs": [
        {
          "name": "stdout",
          "output_type": "stream",
          "text": [
            "Model saved at /content/surrogate_model.pth\n"
          ]
        }
      ],
      "source": [
        "import torch\n",
        "\n",
        "# Assume your model is named `model`\n",
        "model_save_path = \"/content/surrogate_model.pth\"\n",
        "\n",
        "# Save the model state_dict\n",
        "torch.save(model.state_dict(), model_save_path)\n",
        "\n",
        "print(f\"Model saved at {model_save_path}\")\n"
      ]
    }
  ],
  "metadata": {
    "colab": {
      "provenance": []
    },
    "kernelspec": {
      "display_name": "Python 3",
      "name": "python3"
    },
    "language_info": {
      "name": "python"
    }
  },
  "nbformat": 4,
  "nbformat_minor": 0
}
